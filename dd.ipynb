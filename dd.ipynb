{
 "cells": [
  {
   "cell_type": "code",
   "execution_count": null,
   "metadata": {},
   "outputs": [],
   "source": [
    "from collections import deque"
   ]
  },
  {
   "cell_type": "code",
   "execution_count": null,
   "metadata": {
    "pycharm": {
     "is_executing": false
    }
   },
   "outputs": [],
   "source": [
    "import holoviews as hv\n",
    "import numpy as np\n",
    "import panel as pn\n"
   ]
  },
  {
   "cell_type": "code",
   "execution_count": null,
   "metadata": {
    "pycharm": {
     "is_executing": false
    }
   },
   "outputs": [],
   "source": [
    "from nmrtools.firstorder import first_order\n",
    "from utils import lineshape_from_peaklist"
   ]
  },
  {
   "cell_type": "code",
   "execution_count": null,
   "metadata": {
    "pycharm": {
     "is_executing": false
    }
   },
   "outputs": [],
   "source": [
    "pn.extension()\n",
    "hv.extension('bokeh', width=100)"
   ]
  },
  {
   "cell_type": "code",
   "execution_count": null,
   "metadata": {},
   "outputs": [],
   "source": [
    "def dd(J1, J2, w):\n",
    "    singlet = (100, 1)  # center at 100 Hz; intensity 1\n",
    "    couplings = [(J1, 1), (J2, 1)]\n",
    "    peaklist = first_order(singlet, couplings)\n",
    "    x, y = lineshape_from_peaklist(peaklist, w=w, limits=(85, 115))\n",
    "    return hv.Curve(zip(x, y))"
   ]
  },
  {
   "cell_type": "code",
   "execution_count": null,
   "metadata": {},
   "outputs": [],
   "source": [
    "dd_app = pn.interact(dd, J1=(0.0, 20.0, 0.1, 3.0), J2=(0.0, 20.0, 0.1, 7.0), w=(0.1, 10.0, 0.1, 0.5))\n",
    "dd_app"
   ]
  },
  {
   "cell_type": "code",
   "execution_count": null,
   "metadata": {},
   "outputs": [],
   "source": [
    "dd_text = pn.pane.Markdown('''\n",
    "#### Exercise: doublet of doublets\n",
    "\n",
    "The plot above should initialize as a dd for 1 H, with J<sub>1</sub> = 3 Hz and J<sub>2</sub> = 7 Hz.\n",
    "In these simulated examples, the height of each peak (0.25) happens to be proportional to the area\n",
    "(CAUTION: this is often not true in real spectra because line widths can differ).\n",
    "The relative intensities are 0.25 : 0.25 : 0.25 : 0.25, or 1 : 1 : 1 : 1.\n",
    "\n",
    "* Drag both *J* sliders to 0 (or, type \"0\" in the fields to the right of each slider and hit \"Return\" or \"Enter\" on your keyboard).\n",
    "You should see the signal collapse to a singlet at 100 Hz.\n",
    "If the x axis started at 0 Hz for TMS, and the spectrometer were a 100 MHz spectrometer, this would correspond to a chemical shift of 1 ppm.\n",
    "Note the height of the signal (an approximation of its total area) is now 1.\n",
    "In the absence of any splitting, this proton will only resonate at this one frequency, and its integration would be normalized as 1 H.\n",
    "\n",
    "* Now, drag the J<sub>2</sub> slider back to 7 Hz.\n",
    "A doublet with a 7-Hz splitting results.\n",
    "Each peak is half intensity, and would integrate to 0.5 H.\n",
    "This means that half of the nuclei are resonating 3.5 Hz lower than 100 Hz, and half 3.5 Hz higher.\n",
    "The signal is centrosymmetric about 100 Hz.\n",
    "\n",
    "* Drag the J<sub>1</sub> slider to about 0.5 Hz.\n",
    "Each peak in the previous doublet has started to split into doublets themselves.\n",
    "When the size of the splitting is small compared to the peak width\n",
    "(set to 0.5 Hz, and controlled by the \"w\" slider),\n",
    "you won't see complete separation of the peaks,\n",
    "and in a real spectrum if the signal-to-noise ratio is small enough it can be difficult to determine if this is a \"real\" splitting or not.\n",
    "\n",
    "* Drag the J<sub>1</sub> slider back to 3 Hz.\n",
    "The signals are now well separated, and the dd pattern is clear.\n",
    "When analyzing such first-order multiplets, start by measuring the distance between the first two peaks (or the last two),\n",
    "and the distance between the first and third peaks (or the last and third-last).\n",
    "These distances, in Hz, will be two coupling constants.\n",
    "In the dd case, this completes the analysis--\n",
    "the two splittings can be measured as 3 and 7 Hz, and the center of the signal (in ppm) would be the chemical shift. \n",
    "\n",
    "In the chemical literature, coupling constants are listed in order from largest to smallest,\n",
    "and the corresponding splitting (d for doublet, t, for triplet, q for quartet etc. ) follow the same order.\n",
    "This signal would be reported (if this were a 100-MHz spectrometer) as: \"&delta; 1.00 (1H, dd, *J* = 7.0, 3.0 Hz)\".\n",
    "\n",
    "* Drag the J<sub>1</sub> slider to 7 Hz.\n",
    "Now that both coupling constants are the same, the inner two peaks overlap to form a double-intensity signal,\n",
    "and the 1 : 2 : 1 triplet pattern results.\n",
    "The patterns that result from the *n* + 1 rule (doublets, quartets, quintets) are the special cases that result\n",
    "when coupling constants are the same size. \n",
    "\n",
    "Note that a proton may have two different neighbors (protons that are not related by symmetry or exchanged by rotation)\n",
    "that coincidentally have the same *J* value, or very similar.\n",
    "Sometimes spectra taken on more powerful spectrometers can appear more complicated because these small differences can be detected. \n",
    "\n",
    "* Drag the J<sub>1</sub> slider slightly back, to 6.5 Hz.\n",
    "The triplet has started to break up. On a spectrometer with poorer resolution, this may still look like a triplet,\n",
    "or like a \"squashed triplet\" with the middle peak being a bit shorter and broader.\n",
    "\n",
    "* Slide the \"w\" setting up to 1.00 Hz to simulate this effect.\n",
    "\n",
    "\n",
    "''')"
   ]
  },
  {
   "cell_type": "code",
   "execution_count": null,
   "metadata": {},
   "outputs": [],
   "source": [
    "dd_text_1 = pn.pane.Markdown('''\n",
    "The plot above should initialize as a dd for 1 H, with J<sub>1</sub> = 3 Hz and J<sub>2</sub> = 7 Hz.\n",
    "In these simulated examples, the height of each peak (0.25) happens to be proportional to the area\n",
    "(CAUTION: this is often not true in real spectra because line widths can differ).\n",
    "The relative intensities are 0.25 : 0.25 : 0.25 : 0.25, or 1 : 1 : 1 : 1.\n",
    "\n",
    "* Drag both *J* sliders to 0 (or, type \"0\" in the fields to the right of each slider and hit \"Return\" or \"Enter\" on your keyboard).\n",
    "You should see the signal collapse to a singlet at 100 Hz.\n",
    "If the x axis started at 0 Hz for TMS, and the spectrometer were a 100 MHz spectrometer, this would correspond to a chemical shift of 1 ppm.\n",
    "Note the height of the signal (an approximation of its total area) is now 1.\n",
    "In the absence of any splitting, this proton will only resonate at this one frequency, and its integration would be normalized as 1 H.\n",
    "\n",
    "* Now, drag the J<sub>2</sub> slider back to 7 Hz.\n",
    "A doublet with a 7-Hz splitting results.\n",
    "Each peak is half intensity, and would integrate to 0.5 H.\n",
    "This means that half of the nuclei are resonating 3.5 Hz lower than 100 Hz, and half 3.5 Hz higher.\n",
    "The signal is centrosymmetric about 100 Hz.\n",
    "''')\n",
    "\n",
    "dd_text_2 = pn.pane.Markdown('''text 2''')"
   ]
  },
  {
   "cell_type": "code",
   "execution_count": null,
   "metadata": {},
   "outputs": [],
   "source": [
    "backward = pn.widgets.Button(name='\\u25c0', width=50)\n",
    "forward = pn.widgets.Button(name='\\u25b6', width=50)\n",
    "back_fwd = pn.Row(backward, forward)\n",
    "back_fwd"
   ]
  },
  {
   "cell_type": "code",
   "execution_count": null,
   "metadata": {},
   "outputs": [],
   "source": [
    "test_text = [dd_text_1, dd_text_2]\n"
   ]
  },
  {
   "cell_type": "code",
   "execution_count": null,
   "metadata": {},
   "outputs": [],
   "source": [
    "deque_text = deque(test_text)\n"
   ]
  },
  {
   "cell_type": "code",
   "execution_count": null,
   "metadata": {},
   "outputs": [],
   "source": [
    "# print(deque_text[0].object)\n",
    "# deque_text.rotate()\n",
    "# print(deque_text[0].object)"
   ]
  },
  {
   "cell_type": "code",
   "execution_count": null,
   "metadata": {},
   "outputs": [],
   "source": [
    "# dd_text_1.object"
   ]
  },
  {
   "cell_type": "code",
   "execution_count": null,
   "metadata": {},
   "outputs": [],
   "source": [
    "text_column = pn.Column(back_fwd, deque_text[0])\n"
   ]
  },
  {
   "cell_type": "code",
   "execution_count": null,
   "metadata": {},
   "outputs": [],
   "source": [
    "def next_text(event):\n",
    "    deque_text.rotate(-1)\n",
    "    text_column[1] = deque_text[0]\n",
    "\n",
    "def prev_text(event):\n",
    "    deque_text.rotate()\n",
    "    text_column[1] = deque_text[0]"
   ]
  },
  {
   "cell_type": "code",
   "execution_count": null,
   "metadata": {},
   "outputs": [],
   "source": [
    "backward.on_click(prev_text)\n",
    "forward.on_click(next_text)"
   ]
  },
  {
   "cell_type": "code",
   "execution_count": null,
   "metadata": {},
   "outputs": [],
   "source": [
    "dd_row = pn.Row(dd_app, text_column)\n",
    "dd_row"
   ]
  },
  {
   "cell_type": "code",
   "execution_count": null,
   "metadata": {},
   "outputs": [],
   "source": [
    "dd_row.show()"
   ]
  },
  {
   "cell_type": "code",
   "execution_count": null,
   "metadata": {},
   "outputs": [],
   "source": [
    "dd_row.servable()"
   ]
  },
  {
   "cell_type": "code",
   "execution_count": null,
   "metadata": {},
   "outputs": [],
   "source": []
  }
 ],
 "metadata": {
  "file_extension": ".py",
  "kernelspec": {
   "display_name": "Python 3",
   "language": "python",
   "name": "python3"
  },
  "language_info": {
   "codemirror_mode": {
    "name": "ipython",
    "version": 3
   },
   "file_extension": ".py",
   "mimetype": "text/x-python",
   "name": "python",
   "nbconvert_exporter": "python",
   "pygments_lexer": "ipython3",
   "version": "3.7.5"
  },
  "mimetype": "text/x-python",
  "name": "python",
  "npconvert_exporter": "python",
  "pygments_lexer": "ipython3",
  "version": 3
 },
 "nbformat": 4,
 "nbformat_minor": 2
}
