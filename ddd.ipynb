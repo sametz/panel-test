{
 "cells": [
  {
   "cell_type": "code",
   "execution_count": null,
   "metadata": {},
   "outputs": [],
   "source": [
    "from collections import deque"
   ]
  },
  {
   "cell_type": "code",
   "execution_count": null,
   "metadata": {
    "pycharm": {
     "is_executing": false
    }
   },
   "outputs": [],
   "source": [
    "import holoviews as hv\n",
    "import numpy as np\n",
    "import panel as pn\n"
   ]
  },
  {
   "cell_type": "code",
   "execution_count": null,
   "metadata": {
    "pycharm": {
     "is_executing": false
    }
   },
   "outputs": [],
   "source": [
    "from nmrtools.firstorder import first_order\n",
    "from utils import lineshape_from_peaklist"
   ]
  },
  {
   "cell_type": "code",
   "execution_count": null,
   "metadata": {
    "pycharm": {
     "is_executing": false
    }
   },
   "outputs": [],
   "source": [
    "pn.extension()\n",
    "hv.extension('bokeh', width=100)"
   ]
  },
  {
   "cell_type": "code",
   "execution_count": null,
   "metadata": {},
   "outputs": [],
   "source": [
    "def ddd(J1, J2, J3, w):\n",
    "    singlet = (100, 1)  # center at 100 Hz; intensity 1\n",
    "    couplings = [(J1, 1), (J2, 1), (J3, 1)]\n",
    "    peaklist = first_order(singlet, couplings)\n",
    "    x, y = lineshape_from_peaklist(peaklist, w=w, limits=(75, 125))\n",
    "    return hv.Curve(zip(x, y))"
   ]
  },
  {
   "cell_type": "code",
   "execution_count": null,
   "metadata": {},
   "outputs": [],
   "source": [
    "ddd_app = pn.interact(ddd, \n",
    "                      J1=(0.0, 20.0, 0.1, 4.0),\n",
    "                      J2=(0.0, 20.0, 0.1, 10.0),\n",
    "                      J3=(0.0, 20.0, 0.1, 12.0),\n",
    "                      w=(0.1, 10.0, 0.1, 0.5))\n",
    "# ddd_app"
   ]
  },
  {
   "cell_type": "code",
   "execution_count": null,
   "metadata": {},
   "outputs": [],
   "source": [
    "ddd_text_1 = pn.pane.Markdown('''\n",
    "The plot should initialize as a ddd, *J* = 12, 10, 4 Hz.\n",
    "This is a simple ddd pattern, with no coincedental overlap of peaks,\n",
    "so we see 8 peaks of equal intensity. \n",
    "8 is 2<sup>3</sup>, so there are three couplings.\n",
    "\n",
    "If you can measure the distances between peaks \n",
    "(e.g. if you have peak frequencies in Hz), \n",
    "you can start solving such a signal by realizing:\n",
    "- the distance between the first two peaks is the smallest coupling constant (here, *J*<sub>1</sub>)\n",
    "- every peak will be half of a doublet with a splitting of *J*<sub>1</sub>\n",
    "- if the effect of this splitting is removed, \n",
    "  the signal will reduce in complexity (here, to a dd)\n",
    "- repeat the process until all coupling constants are determined\n",
    "''', width_policy='max')\n",
    "\n",
    "ddd_text_2 = pn.pane.Markdown('''\n",
    "This is often shown graphically with a \"tree diagram\", as shown below.\n",
    "\n",
    "![Image](img/ddd2.png)\n",
    "\n",
    "<img src='img/ddd2.png'>\n",
    "\n",
    "If you had a spectrum with peak picking in Hz, \n",
    "then *J*<sub>1</sub> would be the difference in frequency between the first and second peaks, \n",
    "*J*<sub>2</sub> the distance between the first and third, \n",
    "and *J*<sub>3</sub> the distance between the first and fourth. \n",
    "**This will not always be the case**. \n",
    "However, the distance between the first two (or last two) peaks will always be a true coupling constant \n",
    "(in a first-order multiplet).\n",
    "''')"
   ]
  },
  {
   "cell_type": "code",
   "execution_count": null,
   "metadata": {},
   "outputs": [],
   "source": [
    "backward = pn.widgets.Button(name='\\u25c0', width=50)\n",
    "forward = pn.widgets.Button(name='\\u25b6', width=50)\n",
    "back_fwd = pn.Row(backward, forward)\n",
    "back_fwd"
   ]
  },
  {
   "cell_type": "code",
   "execution_count": null,
   "metadata": {},
   "outputs": [],
   "source": [
    "ddd_text = [ddd_text_1, ddd_text_2]\n"
   ]
  },
  {
   "cell_type": "code",
   "execution_count": null,
   "metadata": {},
   "outputs": [],
   "source": [
    "deque_text = deque(ddd_text)\n"
   ]
  },
  {
   "cell_type": "code",
   "execution_count": null,
   "metadata": {},
   "outputs": [],
   "source": [
    "text_column = pn.Column(back_fwd, deque_text[0])\n"
   ]
  },
  {
   "cell_type": "code",
   "execution_count": null,
   "metadata": {},
   "outputs": [],
   "source": [
    "def next_text(event):\n",
    "    deque_text.rotate(-1)\n",
    "    text_column[1] = deque_text[0]\n",
    "\n",
    "def prev_text(event):\n",
    "    deque_text.rotate()\n",
    "    text_column[1] = deque_text[0]"
   ]
  },
  {
   "cell_type": "code",
   "execution_count": null,
   "metadata": {},
   "outputs": [],
   "source": [
    "backward.on_click(prev_text)\n",
    "forward.on_click(next_text)"
   ]
  },
  {
   "cell_type": "code",
   "execution_count": null,
   "metadata": {},
   "outputs": [],
   "source": [
    "ddd_row = pn.Row(ddd_app, text_column)\n",
    "# ddd_row"
   ]
  },
  {
   "cell_type": "code",
   "execution_count": null,
   "metadata": {},
   "outputs": [],
   "source": [
    "ddd_row.show()"
   ]
  },
  {
   "cell_type": "code",
   "execution_count": null,
   "metadata": {},
   "outputs": [],
   "source": [
    "ddd_row.servable()"
   ]
  },
  {
   "cell_type": "code",
   "execution_count": null,
   "metadata": {},
   "outputs": [],
   "source": []
  }
 ],
 "metadata": {
  "file_extension": ".py",
  "kernelspec": {
   "display_name": "Python 3",
   "language": "python",
   "name": "python3"
  },
  "language_info": {
   "codemirror_mode": {
    "name": "ipython",
    "version": 3
   },
   "file_extension": ".py",
   "mimetype": "text/x-python",
   "name": "python",
   "nbconvert_exporter": "python",
   "pygments_lexer": "ipython3",
   "version": "3.7.7"
  },
  "mimetype": "text/x-python",
  "name": "python",
  "npconvert_exporter": "python",
  "pygments_lexer": "ipython3",
  "version": 3
 },
 "nbformat": 4,
 "nbformat_minor": 4
}
