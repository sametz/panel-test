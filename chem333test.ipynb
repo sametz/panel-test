{
 "cells": [
  {
   "cell_type": "code",
   "execution_count": null,
   "metadata": {},
   "outputs": [],
   "source": [
    "import numpy as np\n",
    "import panel as pn\n",
    "pn.extension()"
   ]
  },
  {
   "cell_type": "code",
   "execution_count": null,
   "metadata": {},
   "outputs": [],
   "source": [
    "from nmrtools.dnmr import DnmrAB, dnmr_AB\n",
    "from nmrtools.firstorder import first_order\n",
    "from nmrtools.plt import add_signals"
   ]
  },
  {
   "cell_type": "code",
   "execution_count": null,
   "metadata": {},
   "outputs": [],
   "source": [
    "import holoviews as hv\n",
    "hv.extension('bokeh', width=100)"
   ]
  },
  {
   "cell_type": "code",
   "execution_count": null,
   "metadata": {},
   "outputs": [],
   "source": [
    "from aaxx import aaxx_row\n",
    "from ab import ab_row\n",
    "from abx import abx_row\n",
    "from dd import dd_row\n",
    "from ddd import ddd_row\n",
    "from dddd import dddd_row\n",
    "from dnmr_ab import dnmr_ab_row\n",
    "from dnmr_two_singlets import dnmr_two_singlets_row"
   ]
  },
  {
   "cell_type": "code",
   "execution_count": null,
   "metadata": {},
   "outputs": [],
   "source": [
    "radio_topic = pn.widgets.RadioBoxGroup(name='Topic',\n",
    "                                       options=['first-order multiplets', 'second-order spectra', 'Dynamic NMR'],\n",
    "                                       inline=True)\n",
    "# radio_couplings = pn.widgets.RadioBoxGroup(name='Splittings',\n",
    "#                                            options=['two', 'three', 'four'],\n",
    "#                                            inline=True)\n",
    "# radio_secondorder = pn.widgets.RadioBoxGroup(name='SecondOrder',\n",
    "#                                              options=['AB quartet', 'ABX', \"AA'XX'\"],\n",
    "#                                              inline=True)\n",
    "# radio_dnmr = pn.widgets.RadioBoxGroup(name='dnmr',\n",
    "#                                       options=['two uncoupled nuclei', 'two coupled nuclei'],\n",
    "#                                       inline=True)"
   ]
  },
  {
   "cell_type": "code",
   "execution_count": null,
   "metadata": {},
   "outputs": [],
   "source": [
    "tabs_firstorder = pn.Tabs(('2 couplings', dd_row), ('3 couplings', ddd_row), ('4 couplings', dddd_row))\n",
    "tabs_test = pn.Tabs(('2 couplings', dddd_row), ('3 couplings', dddd_row), ('4 couplings', dddd_row))\n",
    "tabs_secondorder = pn.Tabs(('AB', ab_row), ('ABX', abx_row), (\"AA'XX'\", aaxx_row))\n",
    "tabs_dnmr = pn.Tabs(('Two uncoupled nuclei', dnmr_two_singlets_row), ('Two coupled nuclei', dnmr_ab_row))"
   ]
  },
  {
   "cell_type": "code",
   "execution_count": null,
   "metadata": {},
   "outputs": [],
   "source": [
    "# tabs_test.show()\n",
    "# tabs_firstorder.show()"
   ]
  },
  {
   "cell_type": "code",
   "execution_count": null,
   "metadata": {},
   "outputs": [],
   "source": [
    "# active_submenu = radio_couplings\n",
    "# active_tabs = tabs_firstorder"
   ]
  },
  {
   "cell_type": "code",
   "execution_count": null,
   "metadata": {},
   "outputs": [],
   "source": [
    "radio_topic.value"
   ]
  },
  {
   "cell_type": "code",
   "execution_count": null,
   "metadata": {},
   "outputs": [],
   "source": [
    "def callback(target, event):\n",
    "    topics = {'first-order multiplets': tabs_firstorder,\n",
    "             'second-order spectra': tabs_secondorder,\n",
    "             'Dynamic NMR': tabs_dnmr}\n",
    "    print(event.new)\n",
    "    target.pop(-1)\n",
    "    target.append(topics[event.new])"
   ]
  },
  {
   "cell_type": "code",
   "execution_count": null,
   "metadata": {},
   "outputs": [],
   "source": [
    "# radio_topic.param.watch(callback, 'value')"
   ]
  },
  {
   "cell_type": "code",
   "execution_count": null,
   "metadata": {},
   "outputs": [],
   "source": [
    "# markdown = pn.pane.Markdown(\"Some text.\")\n",
    "# text_input = pn.widgets.TextInput(value=markdown.object)\n",
    "\n",
    "# text_input.link(markdown, value='object')\n",
    "\n",
    "# pn.Row(text_input, markdown)"
   ]
  },
  {
   "cell_type": "code",
   "execution_count": null,
   "metadata": {},
   "outputs": [],
   "source": [
    "app = pn.Column(radio_topic, tabs_firstorder, sizing_mode='stretch_width')\n",
    "radio_topic.link(app, callbacks={'value': callback})\n",
    "\n",
    "# Currently, depending on which of the three statements below is un-commented, the menu_row instantiates properly!\n",
    "radio_topic.value = 'first-order multiplets'\n",
    "# radio_topic.value = 'second-order spectra'\n",
    "# radio_topic.value = 'Dynamic NMR'\n",
    "\n",
    "# However, when the notebook is run, menu_row does not respond to the radio button selection.\n",
    "app"
   ]
  },
  {
   "cell_type": "code",
   "execution_count": null,
   "metadata": {},
   "outputs": [],
   "source": [
    "app.objects"
   ]
  },
  {
   "cell_type": "code",
   "execution_count": null,
   "metadata": {},
   "outputs": [],
   "source": [
    "app.show()"
   ]
  },
  {
   "cell_type": "code",
   "execution_count": null,
   "metadata": {},
   "outputs": [],
   "source": [
    "app.servable()"
   ]
  },
  {
   "cell_type": "markdown",
   "metadata": {},
   "source": [
    "This is often shown graphically with a \"tree diagram\", as shown below.\n",
    "\n",
    "![Image](img/ddd2.png)\n",
    "\n",
    "<img src='img/ddd2.png'>\n"
   ]
  },
  {
   "cell_type": "code",
   "execution_count": null,
   "metadata": {},
   "outputs": [],
   "source": []
  }
 ],
 "metadata": {
  "file_extension": ".py",
  "kernelspec": {
   "display_name": "panel22",
   "language": "python",
   "name": "panel22"
  },
  "language_info": {
   "codemirror_mode": {
    "name": "ipython",
    "version": 3
   },
   "file_extension": ".py",
   "mimetype": "text/x-python",
   "name": "python",
   "nbconvert_exporter": "python",
   "pygments_lexer": "ipython3",
   "version": "3.9.12"
  },
  "mimetype": "text/x-python",
  "name": "python",
  "npconvert_exporter": "python",
  "pycharm": {
   "stem_cell": {
    "cell_type": "raw",
    "metadata": {
     "collapsed": false
    },
    "source": []
   }
  },
  "pygments_lexer": "ipython3",
  "version": 3
 },
 "nbformat": 4,
 "nbformat_minor": 4
}
